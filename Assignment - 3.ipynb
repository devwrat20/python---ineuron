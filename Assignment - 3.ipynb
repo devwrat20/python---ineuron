{
 "cells": [
  {
   "cell_type": "markdown",
   "metadata": {},
   "source": [
    "Q1. Why are functions advantageous to have in your programs?"
   ]
  },
  {
   "cell_type": "markdown",
   "metadata": {},
   "source": [
    "1.Modularity: Functions allow you to break down complex processes into smaller, manageable pieces. This makes the program easier to understand and maintain.\n",
    "\n",
    "2.Reusability: Once a function is defined, it can be used multiple times throughout a program. This eliminates the need for duplicate code and makes it easier to apply changes across the program.\n",
    "\n",
    "3.Abstraction: Functions hide the implementation details from the user and expose only the necessary parts.\n",
    "\n",
    "4.Testing: Functions can be tested independently from the rest of the program. This makes it easier to isolate and fix bugs.\n",
    "\n",
    "5.Parameters and Return Values: Functions can take parameters, which allow you to pass different values and get different results. They can also return values, which can be used elsewhere in your program."
   ]
  },
  {
   "cell_type": "markdown",
   "metadata": {},
   "source": [
    "Q2. When does the code in a function run: when it's specified or when it's called?"
   ]
  },
  {
   "cell_type": "markdown",
   "metadata": {},
   "source": [
    "functions are run when we call it."
   ]
  },
  {
   "cell_type": "code",
   "execution_count": 1,
   "metadata": {},
   "outputs": [
    {
     "name": "stdout",
     "output_type": "stream",
     "text": [
      "3\n"
     ]
    }
   ],
   "source": [
    "def sum(a,b):  # function sum having parameters a and b inside paranthesis \n",
    "    print(a+b)\n",
    "sum(1,2)       #here we called function"
   ]
  },
  {
   "cell_type": "markdown",
   "metadata": {},
   "source": [
    "Q3. What statement creates a function?"
   ]
  },
  {
   "cell_type": "markdown",
   "metadata": {},
   "source": [
    "In Python is the def keyword followed by the function name and parentheses ()"
   ]
  },
  {
   "cell_type": "markdown",
   "metadata": {},
   "source": [
    "Q4 - What is the difference between a function and a function call?"
   ]
  },
  {
   "cell_type": "markdown",
   "metadata": {},
   "source": [
    "A function is a block of code that performs a specific task. It is defined using the def keyword in Python, and it has a name, parameters (optional), and a body. The function itself doesn’t execute when it’s defined; it simply tells Python what to do when the function is called.\n",
    "\n",
    "A function call is the code used to execute the function. It consists of the function name followed by parentheses. If the function requires parameters, the values are passed inside the parentheses. When a function call is made, Python executes the code within the function’s body."
   ]
  },
  {
   "cell_type": "markdown",
   "metadata": {},
   "source": [
    "Q5. How many global scopes are there in a Python program? How many local scopes?"
   ]
  },
  {
   "cell_type": "markdown",
   "metadata": {},
   "source": [
    "Global Scope: The global scope is the top-most scope in a Python program.variables defined in this scope are accessible from anywhere in the program. There is only one global scope per Python program execution.\n",
    "\n",
    "Local Scope: A local scope is created whenever a function is called. Each function call generates its own local scope. Variables defined within this scope are only accessible within the function itself. "
   ]
  },
  {
   "cell_type": "code",
   "execution_count": 2,
   "metadata": {},
   "outputs": [
    {
     "name": "stdout",
     "output_type": "stream",
     "text": [
      "5\n",
      "6\n",
      "5\n"
     ]
    }
   ],
   "source": [
    "a = 5          # variable is in global scope\n",
    "def function():\n",
    "    b = 6      # variable is in local scope\n",
    "    print(a)   # excessing global varibale inside function  \n",
    "    print(b)   # excessign local variable inside function\n",
    "function()      \n",
    "print(a)       # excessing global varibale outside function"
   ]
  },
  {
   "cell_type": "markdown",
   "metadata": {},
   "source": [
    "Q6. What happens to variables in a local scope when the function call returns?"
   ]
  },
  {
   "cell_type": "markdown",
   "metadata": {},
   "source": [
    "When a function call returns, the variables in the local scope of that function are destroyed. This means that the local variables are no longer accessible since their scope no longer exists. The memory allocated to these variables is freed, and their values are lost unless they are returned from the function or are otherwise made available outside the local scope "
   ]
  },
  {
   "cell_type": "markdown",
   "metadata": {},
   "source": [
    "Q7. What is the concept of a return value? Is it possible to have a return value in an expression?"
   ]
  },
  {
   "cell_type": "markdown",
   "metadata": {},
   "source": [
    "In Python, a function can send back a value to the caller using the return statement. This value is called the return value, and it can be any data type, such as a number, string, list, dictionary, or even another function."
   ]
  },
  {
   "cell_type": "code",
   "execution_count": 3,
   "metadata": {},
   "outputs": [
    {
     "name": "stdout",
     "output_type": "stream",
     "text": [
      "16\n"
     ]
    }
   ],
   "source": [
    "def add(a, b):\n",
    "    return a + b\n",
    "\n",
    "# Using the return value in an expression to multiply the sum by 2\n",
    "result = add(5, 3) * 2\n",
    "print(result)  # Output: 16"
   ]
  },
  {
   "cell_type": "markdown",
   "metadata": {},
   "source": [
    "Q8. If a function does not have a return statement, what is the return value of a call to that function?"
   ]
  },
  {
   "cell_type": "markdown",
   "metadata": {},
   "source": [
    "If a function in Python does not have a return statement, the return value of a call to that function is None. None is a special data type in Python that represents the absence of a value. "
   ]
  },
  {
   "cell_type": "code",
   "execution_count": 4,
   "metadata": {},
   "outputs": [
    {
     "name": "stdout",
     "output_type": "stream",
     "text": [
      "This function has no return statement\n",
      "None\n"
     ]
    }
   ],
   "source": [
    "def function_without_return():\n",
    "    print(\"This function has no return statement\")\n",
    "\n",
    "result = function_without_return()\n",
    "print(result)  # Output: None"
   ]
  },
  {
   "cell_type": "markdown",
   "metadata": {},
   "source": [
    "Q9. How do you make a function variable refer to the global variable?"
   ]
  },
  {
   "cell_type": "markdown",
   "metadata": {},
   "source": [
    "To make a function variable refer to a global variable in Python, you use the global keyword within the function to declare that the variable is global."
   ]
  },
  {
   "cell_type": "code",
   "execution_count": 5,
   "metadata": {},
   "outputs": [
    {
     "name": "stdout",
     "output_type": "stream",
     "text": [
      "Modified by my_function\n"
     ]
    }
   ],
   "source": [
    "global_var = \"This is a global variable\"\n",
    "\n",
    "def my_function():\n",
    "    global global_var  # Declare that we are using the global variable\n",
    "    global_var = \"Modified by my_function\"\n",
    "\n",
    "my_function()\n",
    "print(global_var)  # Output: Modified by my_function"
   ]
  },
  {
   "cell_type": "markdown",
   "metadata": {},
   "source": [
    "Q10. What is the data type of None?"
   ]
  },
  {
   "cell_type": "markdown",
   "metadata": {},
   "source": [
    "data type of none is none type"
   ]
  },
  {
   "cell_type": "code",
   "execution_count": 6,
   "metadata": {},
   "outputs": [
    {
     "name": "stdout",
     "output_type": "stream",
     "text": [
      "<class 'NoneType'>\n"
     ]
    }
   ],
   "source": [
    "a = None\n",
    "print(type(a))"
   ]
  },
  {
   "cell_type": "markdown",
   "metadata": {},
   "source": [
    "Q11. What does the sentence import are  all your pets name deric do?"
   ]
  },
  {
   "cell_type": "markdown",
   "metadata": {},
   "source": [
    "in Python, the import statement is used to include a module into your program. For example, import math would include the math module.\n",
    "\n",
    "If you’re referring to naming pets, “Deric” could be a name given to a pet, but it has no direct relation to the import statement in Python."
   ]
  },
  {
   "cell_type": "markdown",
   "metadata": {},
   "source": [
    "Q12. If you had a bacon() feature in a spam module, what would you call it after importing spam?"
   ]
  },
  {
   "cell_type": "markdown",
   "metadata": {},
   "source": [
    "If you have a function named bacon() within a module named spam, after importing the spam module, you would call the bacon() function using the module name followed by a dot (.) and then the function name."
   ]
  },
  {
   "cell_type": "code",
   "execution_count": 8,
   "metadata": {},
   "outputs": [
    {
     "ename": "ModuleNotFoundError",
     "evalue": "No module named 'spam'",
     "output_type": "error",
     "traceback": [
      "\u001b[1;31m---------------------------------------------------------------------------\u001b[0m",
      "\u001b[1;31mModuleNotFoundError\u001b[0m                       Traceback (most recent call last)",
      "\u001b[1;32m<ipython-input-8-d046eaba9d8a>\u001b[0m in \u001b[0;36m<module>\u001b[1;34m\u001b[0m\n\u001b[1;32m----> 1\u001b[1;33m \u001b[1;32mimport\u001b[0m \u001b[0mspam\u001b[0m\u001b[1;33m\u001b[0m\u001b[1;33m\u001b[0m\u001b[0m\n\u001b[0m\u001b[0;32m      2\u001b[0m \u001b[0mspam\u001b[0m\u001b[1;33m.\u001b[0m\u001b[0mbacon\u001b[0m\u001b[1;33m(\u001b[0m\u001b[1;33m)\u001b[0m\u001b[1;33m\u001b[0m\u001b[1;33m\u001b[0m\u001b[0m\n",
      "\u001b[1;31mModuleNotFoundError\u001b[0m: No module named 'spam'"
     ]
    }
   ],
   "source": [
    "import spam\n",
    "spam.bacon()"
   ]
  },
  {
   "cell_type": "code",
   "execution_count": null,
   "metadata": {},
   "outputs": [],
   "source": [
    "Q13. What can you do to save a programme from crashing if it encounters an error?"
   ]
  },
  {
   "cell_type": "markdown",
   "metadata": {},
   "source": [
    "To prevent a program from crashing when it encounters an error, you can use error handling mechanisms provided by Python. The most common way is to use try and except blocks. "
   ]
  },
  {
   "cell_type": "markdown",
   "metadata": {},
   "source": [
    "Q14. What is the purpose of the try clause? What is the purpose of the except clause?"
   ]
  },
  {
   "cell_type": "markdown",
   "metadata": {},
   "source": [
    "try Clause: The try clause is used to wrap a block of code that might potentially cause an exception or an error. The purpose is to test a block of code for errors.\n",
    "except Clause: The except clause is used to catch and handle the exception(s) that are raised in the try block. If an error occurs, the flow of execution is passed to the except block."
   ]
  }
 ],
 "metadata": {
  "kernelspec": {
   "display_name": "Python 3",
   "language": "python",
   "name": "python3"
  },
  "language_info": {
   "codemirror_mode": {
    "name": "ipython",
    "version": 3
   },
   "file_extension": ".py",
   "mimetype": "text/x-python",
   "name": "python",
   "nbconvert_exporter": "python",
   "pygments_lexer": "ipython3",
   "version": "3.8.5"
  }
 },
 "nbformat": 4,
 "nbformat_minor": 4
}
